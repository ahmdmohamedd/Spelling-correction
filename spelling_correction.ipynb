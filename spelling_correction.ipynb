{
 "cells": [
  {
   "cell_type": "markdown",
   "id": "d58ead00-0d71-485d-9314-d1b5e5298f8f",
   "metadata": {},
   "source": [
    "# Install and import nltk"
   ]
  },
  {
   "cell_type": "code",
   "execution_count": 6,
   "id": "2f824c89-3ac7-4faf-a040-6f2587066ecb",
   "metadata": {},
   "outputs": [
    {
     "name": "stderr",
     "output_type": "stream",
     "text": [
      "[nltk_data] Downloading package gutenberg to\n",
      "[nltk_data]     C:\\Users\\ahmed\\AppData\\Roaming\\nltk_data...\n",
      "[nltk_data]   Package gutenberg is already up-to-date!\n"
     ]
    }
   ],
   "source": [
    "import nltk\n",
    "nltk.download('gutenberg')\n",
    "from nltk.corpus import gutenberg"
   ]
  },
  {
   "cell_type": "markdown",
   "id": "9a7d3dbc-9624-4e5d-bd62-d6df04ce6619",
   "metadata": {},
   "source": [
    "# Load the Gutenberg corpus as a larger dataset for better frequency counts"
   ]
  },
  {
   "cell_type": "code",
   "execution_count": 8,
   "id": "3fb61a86-45e8-46c2-a406-2b086d2c88b0",
   "metadata": {},
   "outputs": [],
   "source": [
    "# Cell 1: Define the tokenize function\n",
    "import re\n",
    "from collections import Counter\n",
    "\n",
    "def tokenize(text):\n",
    "    words = re.findall(r'\\w+', text)\n",
    "    return Counter(words)\n",
    "\n",
    "def load_large_corpus():\n",
    "    words = nltk.corpus.gutenberg.words()  # This is a large text corpus\n",
    "    return ' '.join(words).lower()\n",
    "\n",
    "# Build the word frequency dictionary\n",
    "corpus = load_large_corpus()\n",
    "word_freqs = tokenize(corpus)"
   ]
  },
  {
   "cell_type": "markdown",
   "id": "87d377f2-b84e-47f4-af52-ac09096d4033",
   "metadata": {},
   "source": [
    "# Improved correction with stricter conditions for edits"
   ]
  },
  {
   "cell_type": "code",
   "execution_count": 11,
   "id": "c4fa26c1-9cea-4cf4-868c-9e4301f91f26",
   "metadata": {},
   "outputs": [],
   "source": [
    "def edits1(word):\n",
    "    # All edits that are one edit away from 'word'\n",
    "    letters = 'abcdefghijklmnopqrstuvwxyz'\n",
    "    splits = [(word[:i], word[i:]) for i in range(len(word) + 1)]\n",
    "    deletes = [L + R[1:] for L, R in splits if R]\n",
    "    transposes = [L + R[1] + R[0] + R[2:] for L, R in splits if len(R) > 1]\n",
    "    replaces = [L + c + R[1:] for L, R in splits if R for c in letters]\n",
    "    inserts = [L + c + R for L, R in splits for c in letters]\n",
    "    return set(deletes + transposes + replaces + inserts)\n",
    "\n",
    "def known(words):\n",
    "    # Return the subset of words that are actually in the dictionary (word_freqs)\n",
    "    return set(w for w in words if w in word_freqs)\n",
    "\n",
    "def get_candidates(word):\n",
    "    # Return a set of known words that are either one or two edits away from the word\n",
    "    return (known([word]) or\n",
    "            known(edits1(word)) or\n",
    "            [word])  # If no candidates found, return the original word\n",
    "\n",
    "def correct_spelling(word):\n",
    "    # Get candidates\n",
    "    candidates = get_candidates(word)\n",
    "    \n",
    "    # Return most probable correct word (from corpus or original)\n",
    "    if candidates:\n",
    "        return max(candidates, key=lambda w: word_freqs[w])\n",
    "    else:\n",
    "        return word  # Return the original word if no candidates found\n",
    "\n",
    "def correct_sentence(sentence):\n",
    "    corrected_sentence = []\n",
    "    for word in sentence.split():\n",
    "        corrected_sentence.append(correct_spelling(word))\n",
    "    return ' '.join(corrected_sentence)\n"
   ]
  },
  {
   "cell_type": "code",
   "execution_count": 17,
   "id": "ab65fc39-42a7-4257-baeb-26be5fc753d0",
   "metadata": {},
   "outputs": [
    {
     "name": "stdout",
     "output_type": "stream",
     "text": [
      "Original: Ths is an exampel of a sentnce with sevral mispelled wrds.\n",
      "Corrected: Ths is an example of a sentence with several dispelled wrds.\n"
     ]
    }
   ],
   "source": [
    "test_sentence = \"Ths is an exampel of a sentnce with sevral mispelled wrds.\"\n",
    "corrected_sentence = correct_sentence(test_sentence)\n",
    "print(f\"Original: {test_sentence}\")\n",
    "print(f\"Corrected: {corrected_sentence}\")"
   ]
  }
 ],
 "metadata": {
  "kernelspec": {
   "display_name": "Python 3 (ipykernel)",
   "language": "python",
   "name": "python3"
  },
  "language_info": {
   "codemirror_mode": {
    "name": "ipython",
    "version": 3
   },
   "file_extension": ".py",
   "mimetype": "text/x-python",
   "name": "python",
   "nbconvert_exporter": "python",
   "pygments_lexer": "ipython3",
   "version": "3.9.18"
  }
 },
 "nbformat": 4,
 "nbformat_minor": 5
}
