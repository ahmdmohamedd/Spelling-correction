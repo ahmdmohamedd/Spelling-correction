{
 "cells": [
  {
   "cell_type": "code",
   "execution_count": 10,
   "id": "2f824c89-3ac7-4faf-a040-6f2587066ecb",
   "metadata": {},
   "outputs": [
    {
     "name": "stderr",
     "output_type": "stream",
     "text": [
      "[nltk_data] Downloading package gutenberg to\n",
      "[nltk_data]     C:\\Users\\ahmed\\AppData\\Roaming\\nltk_data...\n",
      "[nltk_data]   Unzipping corpora\\gutenberg.zip.\n"
     ]
    }
   ],
   "source": [
    "# Cell 1: Install and import nltk (if using a large corpus)\n",
    "import nltk\n",
    "nltk.download('gutenberg')\n",
    "from nltk.corpus import gutenberg"
   ]
  },
  {
   "cell_type": "code",
   "execution_count": 11,
   "id": "3fb61a86-45e8-46c2-a406-2b086d2c88b0",
   "metadata": {},
   "outputs": [],
   "source": [
    "# Cell 2: Load the Gutenberg corpus as a larger dataset for better frequency counts\n",
    "def load_large_corpus():\n",
    "    words = nltk.corpus.gutenberg.words()  # This is a large text corpus\n",
    "    return ' '.join(words).lower()\n",
    "\n",
    "# Build the word frequency dictionary\n",
    "corpus = load_large_corpus()\n",
    "word_freqs = tokenize(corpus)"
   ]
  },
  {
   "cell_type": "code",
   "execution_count": 13,
   "id": "c4fa26c1-9cea-4cf4-868c-9e4301f91f26",
   "metadata": {},
   "outputs": [],
   "source": [
    "# Cell 3: Improved correction with stricter conditions for edits\n",
    "def correct_spelling(word):\n",
    "    # Get candidates\n",
    "    candidates = get_candidates(word)\n",
    "    \n",
    "    # Return most probable correct word (from corpus or original)\n",
    "    if candidates:\n",
    "        return max(candidates, key=lambda w: word_freqs[w])\n",
    "    else:\n",
    "        return word  # Return the original word if no candidates found\n",
    "\n",
    "def correct_sentence(sentence):\n",
    "    corrected_sentence = []\n",
    "    for word in sentence.split():\n",
    "        corrected_sentence.append(correct_spelling(word))\n",
    "    return ' '.join(corrected_sentence)\n"
   ]
  },
  {
   "cell_type": "code",
   "execution_count": 18,
   "id": "ab65fc39-42a7-4257-baeb-26be5fc753d0",
   "metadata": {},
   "outputs": [
    {
     "name": "stdout",
     "output_type": "stream",
     "text": [
      "Original: Ths is an exampel of a sentnce with sevral mispelled wrds.\n",
      "Corrected: the is an example of a sentence with several dispelled words\n"
     ]
    }
   ],
   "source": [
    "# Test\n",
    "test_sentence = \"Ths is an exampel of a sentnce with sevral mispelled wrds.\"\n",
    "corrected_sentence = correct_sentence(test_sentence)\n",
    "print(f\"Original: {test_sentence}\")\n",
    "print(f\"Corrected: {corrected_sentence}\")"
   ]
  }
 ],
 "metadata": {
  "kernelspec": {
   "display_name": "Python 3 (ipykernel)",
   "language": "python",
   "name": "python3"
  },
  "language_info": {
   "codemirror_mode": {
    "name": "ipython",
    "version": 3
   },
   "file_extension": ".py",
   "mimetype": "text/x-python",
   "name": "python",
   "nbconvert_exporter": "python",
   "pygments_lexer": "ipython3",
   "version": "3.9.18"
  }
 },
 "nbformat": 4,
 "nbformat_minor": 5
}
